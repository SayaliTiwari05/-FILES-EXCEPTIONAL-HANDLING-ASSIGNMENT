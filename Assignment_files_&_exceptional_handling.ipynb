{
  "nbformat": 4,
  "nbformat_minor": 0,
  "metadata": {
    "colab": {
      "provenance": []
    },
    "kernelspec": {
      "name": "python3",
      "display_name": "Python 3"
    },
    "language_info": {
      "name": "python"
    }
  },
  "cells": [
    {
      "cell_type": "markdown",
      "source": [
        "**1.What is the difference between interpreted and compiled languages?**\n",
        "\n",
        "Answer:\n",
        "\n",
        "Interpreted languages execute code line by line using an interpreter. They are easier to debug but generally slower. Example: Python.\n",
        "\n",
        "Compiled languages convert the entire source code into machine code before execution. They are faster but require recompilation after changes. Example: C++."
      ],
      "metadata": {
        "id": "6o8GM2aKA3CX"
      }
    },
    {
      "cell_type": "markdown",
      "source": [
        "**2.What is exception handling in Python?**\n",
        "\n",
        "Answer:\n",
        "\n",
        "Exception handling in Python is a way to manage errors in a program without stopping its execution. It uses try, except, else, and finally blocks to catch and handle errors\n",
        "\n",
        "\n",
        "```\n",
        "try:\n",
        "    x = int(\"abc\") #it will thro value error\n",
        "except (ValueError, TypeError) as e:\n",
        "    print(\"Error:\", e)\n",
        "```\n",
        "output\n",
        "Error: invalid literal for int() with base 10: 'abc'\n",
        "\n",
        "\n"
      ],
      "metadata": {
        "id": "GS771D7wA6yO"
      }
    },
    {
      "cell_type": "markdown",
      "source": [
        "**3.What is the purpose of the finally block in exception handling?**\n",
        "\n",
        "Answer:\n",
        "The finally block contains code that always runs, whether an error occurs or not. It is useful for cleanup tasks like closing files or releasing resources.\n",
        "\n",
        "```\n",
        "try:\n",
        "    f = open(\"data.txt\")\n",
        "finally:\n",
        "    f.close()  # Always runs\n",
        "```\n",
        "\n"
      ],
      "metadata": {
        "id": "dHJ3EGd6A6z6"
      }
    },
    {
      "cell_type": "markdown",
      "source": [
        "**4. What is logging in Python?**\n",
        "\n",
        "Answer :\n",
        "\n",
        "Logging is used to record events, errors, and informational messages during program execution. It helps in debugging and monitoring without using print statements. Python’s built-in logging module makes it easy to log to files or the console."
      ],
      "metadata": {
        "id": "7-L57K4VA64u"
      }
    },
    {
      "cell_type": "markdown",
      "source": [
        "**5.What is the significance of the` __del__ `method in Python?**\n",
        "\n",
        "Answer : The `__del__` method is a destructor. It is called automatically when an object is deleted or goes out of scope. It is often used to clean up resources like closing files or releasing memory.\n",
        "\n",
        "\n",
        "```\n",
        "class Example:\n",
        "    def __del__(self):\n",
        "        print(\"Object destroyed\")\n",
        "```\n",
        "\n",
        "\n"
      ],
      "metadata": {
        "id": "1xdadRo5A66m"
      }
    },
    {
      "cell_type": "markdown",
      "source": [
        "**6.What is the difference between import and from ... import in Python?**\n",
        "\n",
        "Answer :\n",
        "\n",
        "import module → Imports the whole module; access functions with module.function().\n",
        "\n",
        "from module import function → Imports only the specific function/class; you can use it directly without the module name.\n",
        "example:\n",
        "\n",
        "\n",
        "```\n",
        "import math #here math is module\n",
        "print(math.sqrt(16))  # Using module name #module.function()\n",
        "\n",
        "from math import sqrt\n",
        "print(sqrt(16))       # Direct use\n",
        "```\n",
        "\n",
        "\n",
        "\n",
        "\n"
      ],
      "metadata": {
        "id": "3Q4o9EtWA7Go"
      }
    },
    {
      "cell_type": "markdown",
      "source": [
        "**7. How can you handle multiple exceptions in Python?**\n",
        "\n",
        "Answer:\n",
        "You can handle multiple exceptions by writing separate except blocks for each type of error or grouping them in a tuple. This makes your program more flexible in handling different error types.\n",
        "\n",
        "```\n",
        "try:\n",
        "    x = int(\"abc\")\n",
        "except (ValueError, TypeError) as e:\n",
        "    print(\"Error:\", e)\n",
        "```\n",
        "\n",
        "\n"
      ],
      "metadata": {
        "id": "zW_zx6qVA3Er"
      }
    },
    {
      "cell_type": "markdown",
      "source": [
        "**8.What is the purpose of the with statement when handling files in Python?**\n",
        "\n",
        "Answer:\n",
        "\n",
        "The with statement ensures that a file is automatically closed after use, even if an error occurs. This makes file handling safer and cleaner.\n",
        "\n",
        "```\n",
        "with open(\"data.txt\", \"r\") as file:\n",
        "    content = file.read()\n",
        "# File closes automatically here\n",
        "```\n",
        "\n"
      ],
      "metadata": {
        "id": "Vr7UTrysA3Iq"
      }
    },
    {
      "cell_type": "markdown",
      "source": [
        "**9.What is the difference between multithreading and multiprocessing?**\n",
        "\n",
        "Answer:\n",
        "\n",
        "Multithreading → Runs multiple threads within the same process; shares memory; good for I/O-bound tasks.\n",
        "\n",
        "Multiprocessing → Runs multiple processes with separate memory; better for CPU-bound tasks."
      ],
      "metadata": {
        "id": "06DZ9jG2A3KB"
      }
    },
    {
      "cell_type": "markdown",
      "source": [
        "**10. What are the advantages of using logging in a program?**\n",
        "\n",
        "Answer :   \n",
        "Helps track program flow.\n",
        "Records errors and warnings for debugging.\n",
        "Saves logs to files for future analysis.\n",
        "Works better than print() for large applications.\n",
        "\n"
      ],
      "metadata": {
        "id": "xZ5wDsR5A3Os"
      }
    },
    {
      "cell_type": "markdown",
      "source": [
        "**11.What is memory management in Python?**\n",
        "\n",
        "Answer :  \n",
        "Memory management in Python is the process of allocating and freeing memory for objects and variables automatically.Python does this automatically using a system called the Python Memory Manager, and it removes unused data with garbage collection so memory is not wasted."
      ],
      "metadata": {
        "id": "B0j8ZrJ8A3QC"
      }
    },
    {
      "cell_type": "markdown",
      "source": [
        "12. What are the basic steps involved in exception handling in Python?\n",
        "\n",
        " The steps are:\n",
        "\n",
        "* Write the risky code inside a try block.\n",
        "\n",
        "* Handle errors using one or more except blocks.\n",
        "\n",
        "* Optionally use else for code that runs only if no error    occurs.\n",
        "\n",
        "* Optionally use finally for cleanup actions.\n",
        "\n"
      ],
      "metadata": {
        "id": "0rCzOdxjA3Um"
      }
    },
    {
      "cell_type": "markdown",
      "source": [
        "**13. Why is memory management important in Python?**\n",
        "\n",
        "Answer :\n",
        "\n",
        "It prevents memory leaks, improves performance, and ensures that resources are used efficiently. Without proper memory management, programs could slow down or crash due to excessive memory usage."
      ],
      "metadata": {
        "id": "LLV5shp3A3V6"
      }
    },
    {
      "cell_type": "markdown",
      "source": [
        "**14.What is the role of try and except in exception handling?**\n",
        "\n",
        "Answer :\n",
        "The try block contains code that might raise an exception, while the except block catches and handles those exceptions to prevent the program from crashing.\n",
        "\n",
        "```\n",
        "try:\n",
        "    num = int(\"abc\")\n",
        "except ValueError:\n",
        "    print(\"Invalid number\")\n",
        "```\n",
        "\n"
      ],
      "metadata": {
        "id": "CH7Ml8H0A3ay"
      }
    },
    {
      "cell_type": "markdown",
      "source": [
        "**15. How does Python's garbage collection system work?**\n",
        "\n",
        "Answer :\n",
        "\n",
        "Python's garbage collector automatically removes objects that are no longer referenced. It mainly uses reference counting and a cyclic garbage collector to detect and clean up unused memory."
      ],
      "metadata": {
        "id": "ev4gnaAoA3cJ"
      }
    },
    {
      "cell_type": "markdown",
      "source": [
        "**16.What is the purpose of the else block in exception handling?**\n",
        "\n",
        "Answer :\n",
        "The else block runs only if no exception occurs in the try block. It is useful for code that should execute when everything goes smoothly.\n",
        "\n",
        "\n",
        "```\n",
        "try:\n",
        "    x = 5 / 1   #here no error will be occur thats why else block will be used\n",
        "except ZeroDivisionError:\n",
        "    print(\"Error\")\n",
        "else:\n",
        "    print(\"No error occurred\")\n",
        "```\n",
        "\n"
      ],
      "metadata": {
        "id": "XVMHDo9oA3gg"
      }
    },
    {
      "cell_type": "markdown",
      "source": [
        "17. What are the common logging levels in Python?\n",
        "\n",
        "  -The common logging levels are:\n",
        "\n",
        "* DEBUG – Detailed information for debugging.\n",
        "\n",
        "* INFO – General program execution information.\n",
        "\n",
        "* WARNING – Something unexpected happened, but program works.\n",
        "\n",
        "* ERROR – A serious issue that caused a function to fail.\n",
        "\n",
        "* CRITICAL – A severe error that may stop the program"
      ],
      "metadata": {
        "id": "4qZwLPqNA3h6"
      }
    },
    {
      "cell_type": "markdown",
      "source": [
        "**18.What is the difference between os.fork() and multiprocessing in Python?**\n",
        "\n",
        "Answer :\n",
        "\n",
        "os.fork() – Creates a child process by duplicating the current process (Unix/Linux only).\n",
        "\n",
        "multiprocessing – Works on both Windows and Unix, allows creating new processes and passing data between them easily."
      ],
      "metadata": {
        "id": "HPjaW1bmA3mV"
      }
    },
    {
      "cell_type": "markdown",
      "source": [
        "**19.What is the importance of closing a file in Python?**\n",
        "\n",
        "Answer:  \n",
        "Closing a file ensures that all data is written to disk and system resources are freed. Not closing a file may lead to data loss or file corruption."
      ],
      "metadata": {
        "id": "42C1q-3-A3nt"
      }
    },
    {
      "cell_type": "markdown",
      "source": [
        "**20. What is the difference between file.read() and file.readline() in Python?**\n",
        "\n",
        "Answer :\n",
        "\n",
        "file.read() – Reads the entire file or a given number of characters at once.\n",
        "\n",
        "file.readline() – Reads one line from the file at a time.\n",
        "\n",
        "```\n",
        "f = open(\"test.txt\", \"r\")\n",
        "print(f.read())       # Reads whole file\n",
        "f.seek(0)\n",
        "print(f.readline())   # Reads first line only\n",
        "f.close()\n",
        "```\n",
        "\n"
      ],
      "metadata": {
        "id": "ZSALmxw1A3r6"
      }
    },
    {
      "cell_type": "markdown",
      "source": [
        "**21.What is the logging module in Python used for?**\n",
        "\n",
        "Answer :\n",
        "The logging module is used to record messages that describe the events happening in a program.\n",
        "It is very useful for debugging, tracking errors, and keeping logs for future analysis.\n",
        "It supports different levels like DEBUG, INFO, WARNING, ERROR, and CRITICAL."
      ],
      "metadata": {
        "id": "Gvp4DbpxA3tU"
      }
    },
    {
      "cell_type": "markdown",
      "source": [
        "**22.What is the os module in Python used for in file handling?**\n",
        "\n",
        "Answer :\n",
        "The os module lets you interact with the operating system directly from Python.\n",
        "In file handling, it can be used to create, delete, rename, and navigate files or directories.\n",
        "It also helps in checking file paths and permissions."
      ],
      "metadata": {
        "id": "R6_5VLdbA3xn"
      }
    },
    {
      "cell_type": "markdown",
      "source": [
        "**23.What are the challenges associated with memory management in Python?**\n",
        "\n",
        "Answer :\n",
        "\n",
        "Python uses automatic memory management, but it has some challenges.\n",
        "Large objects may consume more memory than expected, and circular references can slow garbage collection.\n",
        "Also, memory usage can grow if unused objects are not released quickly."
      ],
      "metadata": {
        "id": "DVak-5xcA3y3"
      }
    },
    {
      "cell_type": "markdown",
      "source": [
        "**24.How do you raise an exception manually in Python?**\n",
        "\n",
        "Answer :\n",
        "We can raise an exception manually using the raise keyword.\n",
        "This is useful when we want to stop the program if an invalid condition is found.\n",
        "Example:\n",
        "\n",
        "`raise ValueError(\"Invalid input\")`"
      ],
      "metadata": {
        "id": "KwrQNifcA33P"
      }
    },
    {
      "cell_type": "markdown",
      "source": [
        "**25.Why is it important to use multithreading in certain applications?**\n",
        "\n",
        "Answer :\n",
        "\n",
        "Multithreading allows multiple tasks to run in the same program at the same time.\n",
        "It is important in applications where tasks like downloading, data processing, or user interactions should happen simultaneously.\n",
        "This helps improve responsiveness and efficiency."
      ],
      "metadata": {
        "id": "Q_zmWq13A34q"
      }
    },
    {
      "cell_type": "code",
      "source": [
        "#practical questions\n",
        "#1.How can you open a file for writing in Python and write a string to it?\n",
        "\n",
        "file=open(\"example.txt\",\"w\")\n",
        "file.write(\"Hello, world!\")\n",
        "file.close()"
      ],
      "metadata": {
        "id": "Vt7nD4NQU0RA"
      },
      "execution_count": 1,
      "outputs": []
    },
    {
      "cell_type": "code",
      "source": [
        "#2.Write a Python program to read the contents of a file and print each line?\n",
        "file=open(\"example.txt\",\"w\")\n",
        "file.write(\"Hello, world!\\n\")\n",
        "file.write(\"I Am Data Analyst\\n\")\n",
        "file.write(\"welcome to my code\\n\")\n",
        "file.close()\n",
        "file=open(\"example.txt\",\"r\")\n",
        "print(file.read())\n",
        "file.close()"
      ],
      "metadata": {
        "colab": {
          "base_uri": "https://localhost:8080/"
        },
        "id": "8CwLdQQ4WM3j",
        "outputId": "64929bd4-565b-4900-a5e5-3fbcfba31756"
      },
      "execution_count": 3,
      "outputs": [
        {
          "output_type": "stream",
          "name": "stdout",
          "text": [
            "Hello, world!\n",
            "I Am Data Analyst\n",
            "welcome to my code\n",
            "\n"
          ]
        }
      ]
    },
    {
      "cell_type": "code",
      "source": [
        "#3.How would you handle a case where the file doesn't exist while trying to open it for reading\n",
        "\n",
        "try:\n",
        "   file=open(\"example1.txt\",\"r\")\n",
        "   file.read()\n",
        "except FileNotFoundError:\n",
        "   print(\"File not found\")\n",
        "finally:\n",
        "   file.close()\n"
      ],
      "metadata": {
        "colab": {
          "base_uri": "https://localhost:8080/"
        },
        "id": "Lc5FYVzHXZu-",
        "outputId": "6915ecb2-b23e-4b77-9693-ff0ab57451c7"
      },
      "execution_count": 4,
      "outputs": [
        {
          "output_type": "stream",
          "name": "stdout",
          "text": [
            "File not found\n"
          ]
        }
      ]
    },
    {
      "cell_type": "code",
      "source": [
        "#4.Write a Python script that reads from one file and writes its content to another file?\n",
        "\n",
        "file1=open(\"example.txt\",\"r\")\n",
        "file2=open(\"example2.txt\",\"w\")\n",
        "file2.write(file1.read())\n",
        "file1.close()\n",
        "file2.close()"
      ],
      "metadata": {
        "id": "TRKQ28nCYBCt"
      },
      "execution_count": 5,
      "outputs": []
    },
    {
      "cell_type": "code",
      "source": [
        "#5.How would you catch and handle division by zero error in Python?\n",
        "try:\n",
        "  100/0\n",
        "except ZeroDivisionError as e:\n",
        "  print(e)\n"
      ],
      "metadata": {
        "colab": {
          "base_uri": "https://localhost:8080/"
        },
        "id": "0IcFIAA0YBM3",
        "outputId": "2d5bf66a-065a-497b-f2fe-161cf3d69b0d"
      },
      "execution_count": 8,
      "outputs": [
        {
          "output_type": "stream",
          "name": "stdout",
          "text": [
            "division by zero\n"
          ]
        }
      ]
    },
    {
      "cell_type": "code",
      "source": [
        "#6.Write a Python program that logs an error message to a log file when a division by zero exception occurs?\n",
        "import logging\n",
        "logging.basicConfig(filename=\"error.log\",level=logging.ERROR)\n",
        "try:\n",
        "  100/0\n",
        "except ZeroDivisionError as e:\n",
        "  logging.error(e)"
      ],
      "metadata": {
        "colab": {
          "base_uri": "https://localhost:8080/"
        },
        "id": "jdxg256CZxy_",
        "outputId": "04825855-d63d-45f4-8ede-de15182bb8c6"
      },
      "execution_count": 9,
      "outputs": [
        {
          "output_type": "stream",
          "name": "stderr",
          "text": [
            "ERROR:root:division by zero\n"
          ]
        }
      ]
    },
    {
      "cell_type": "code",
      "source": [
        "#7.How do you log information at different levels (INFO, ERROR, WARNING) in Python using the logging module?\n",
        "import logging\n",
        "logging.basicConfig(filename=\"info.log\",level=logging.INFO)\n",
        "\n",
        "logging.info(\"This is info message\")\n",
        "logging.error(\"This is error message\")\n",
        "logging.warning(\"This is warning message\")"
      ],
      "metadata": {
        "colab": {
          "base_uri": "https://localhost:8080/"
        },
        "id": "zVXHeczfazUz",
        "outputId": "46abb477-8562-462e-d67c-8ccdb42566fd"
      },
      "execution_count": 11,
      "outputs": [
        {
          "output_type": "stream",
          "name": "stderr",
          "text": [
            "ERROR:root:This is error message\n",
            "WARNING:root:This is warning message\n"
          ]
        }
      ]
    },
    {
      "cell_type": "code",
      "source": [
        "#8.Write a program to handle a file opening error using exception handling?\n",
        "try:\n",
        "  file=open(\"example3.txt\",\"r\")\n",
        "except Exception as e:\n",
        "\n",
        "  print(\"file not found:\",e)\n",
        "\n"
      ],
      "metadata": {
        "colab": {
          "base_uri": "https://localhost:8080/"
        },
        "id": "0V1jxujBbvVD",
        "outputId": "6e605a9d-fdf2-4907-c56d-cbcc5439776e"
      },
      "execution_count": 15,
      "outputs": [
        {
          "output_type": "stream",
          "name": "stdout",
          "text": [
            "file not found: [Errno 2] No such file or directory: 'example3.txt'\n"
          ]
        }
      ]
    },
    {
      "cell_type": "code",
      "source": [
        "#9.How can you read a file line by line and store its content in a list in Python?\n",
        "file=open(\"example.txt\",\"r\")\n",
        "list=file.readlines()\n",
        "print(list)\n",
        "file.close()\n"
      ],
      "metadata": {
        "colab": {
          "base_uri": "https://localhost:8080/"
        },
        "id": "GWrGlej4bvSh",
        "outputId": "2b74da8c-6ca5-4ce7-aaef-91ecec973b07"
      },
      "execution_count": 16,
      "outputs": [
        {
          "output_type": "stream",
          "name": "stdout",
          "text": [
            "['Hello, world!\\n', 'I Am Data Analyst\\n', 'welcome to my code\\n']\n"
          ]
        }
      ]
    },
    {
      "cell_type": "code",
      "source": [
        "#10.How can you append data to an existing file in Python?\n",
        "file=open(\"example.txt\",\"a\")\n",
        "file.write(\"This is new line,new content\")\n",
        "file.close()\n"
      ],
      "metadata": {
        "id": "z39AJLGgbvPV"
      },
      "execution_count": 17,
      "outputs": []
    },
    {
      "cell_type": "code",
      "source": [
        "#11.Write a Python program that uses a try-except block to handle an error when attempting to access\n",
        "#a dictionary key that doesn't exist?\n",
        "my_dict = {\"Name\": \"shyam\", \"age\": 3}\n",
        "\n",
        "try:\n",
        "    print(my_dict[\"city\"])  # This will raise KeyError\n",
        "except KeyError as e:\n",
        "    print(\"Key not found:\", e)\n",
        "\n",
        "\n"
      ],
      "metadata": {
        "colab": {
          "base_uri": "https://localhost:8080/"
        },
        "id": "fQq5lJGobvLm",
        "outputId": "574554b1-0ec7-4b5e-e236-141d8cda0ed3"
      },
      "execution_count": 22,
      "outputs": [
        {
          "output_type": "stream",
          "name": "stdout",
          "text": [
            "Key not found: 'city'\n"
          ]
        }
      ]
    },
    {
      "cell_type": "code",
      "source": [
        "#12.Write a program that demonstrates using multiple except blocks to handle different types of exceptions?\n",
        "try:\n",
        "    num = int(\"abc\")\n",
        "    result = 10 / 0\n",
        "except ValueError:\n",
        "    print(\"Invalid conversion to integer.\")\n",
        "except ZeroDivisionError:\n",
        "    print(\"Division by zero is not allowed.\")\n",
        "\n",
        "print(\"done\")\n"
      ],
      "metadata": {
        "colab": {
          "base_uri": "https://localhost:8080/"
        },
        "id": "Ii18jZDTbvKB",
        "outputId": "11241531-a205-4be5-e3e2-2b13de003154"
      },
      "execution_count": 23,
      "outputs": [
        {
          "output_type": "stream",
          "name": "stdout",
          "text": [
            "Invalid conversion to integer.\n",
            "done\n"
          ]
        }
      ]
    },
    {
      "cell_type": "code",
      "source": [
        "#13.How would you check if a file exists before attempting to read it in Python?\n",
        "import os\n",
        "\n",
        "file_path = \"example.txt\"\n",
        "\n",
        "if os.path.exists(file_path):\n",
        "    with open(file_path, \"r\") as file:\n",
        "        content = file.read()\n",
        "        print(content)"
      ],
      "metadata": {
        "colab": {
          "base_uri": "https://localhost:8080/"
        },
        "id": "aCoOL5_lbvGn",
        "outputId": "d91dfc49-00b5-4987-bb5c-4731030ec6aa"
      },
      "execution_count": 24,
      "outputs": [
        {
          "output_type": "stream",
          "name": "stdout",
          "text": [
            "Hello, world!\n",
            "I Am Data Analyst\n",
            "welcome to my code\n",
            "This is new line,new content\n"
          ]
        }
      ]
    },
    {
      "cell_type": "code",
      "source": [
        "#14.Write a program that uses the logging module to log both informational and error messages?\n",
        "\n",
        "import logging\n",
        "\n",
        "logging.basicConfig(filename=\"messages.log\", level=logging.INFO)\n",
        "\n",
        "logging.info(\"This is an informational message\")\n",
        "logging.error(\"This is an error message\")\n"
      ],
      "metadata": {
        "colab": {
          "base_uri": "https://localhost:8080/"
        },
        "id": "rsdKYwumbvEx",
        "outputId": "e59f3ab9-432a-47d1-d3a2-f7ded11e3ee7"
      },
      "execution_count": 26,
      "outputs": [
        {
          "output_type": "stream",
          "name": "stderr",
          "text": [
            "ERROR:root:This is an error message\n"
          ]
        }
      ]
    },
    {
      "cell_type": "code",
      "source": [
        "#15.Write a Python program that prints the content of a file and handles the case when the file is empty ?\n",
        "try:\n",
        "    with open(\"example.txt\", \"r\") as file:\n",
        "        content = file.read()\n",
        "        if content.strip() == \"\":\n",
        "            print(\"The file is empty.\")\n",
        "        else:\n",
        "            print(content)\n",
        "except FileNotFoundError:\n",
        "    print(\"File not found.\")\n"
      ],
      "metadata": {
        "colab": {
          "base_uri": "https://localhost:8080/"
        },
        "id": "IErPGX6Jbu0L",
        "outputId": "86a141aa-13f6-4122-d6b3-1fbe7ef13d1d"
      },
      "execution_count": 27,
      "outputs": [
        {
          "output_type": "stream",
          "name": "stdout",
          "text": [
            "Hello, world!\n",
            "I Am Data Analyst\n",
            "welcome to my code\n",
            "This is new line,new content\n"
          ]
        }
      ]
    },
    {
      "cell_type": "code",
      "source": [
        "#16.Demonstrate how to use memory profiling to check the memory usage of a small program\n",
        "\n",
        "import tracemalloc\n",
        "\n",
        "tracemalloc.start()  # Start tracking memory\n",
        "\n",
        "# Example code to measure\n",
        "nums = [i for i in range(100000)]\n",
        "print(\"List created with\", len(nums), \"items\")\n",
        "\n",
        "current, peak = tracemalloc.get_traced_memory()\n",
        "print(f\"Current memory usage: {current / 1024:.2f} KB\")\n",
        "print(f\"Peak memory usage: {peak / 1024:.2f} KB\")\n",
        "\n",
        "tracemalloc.stop()\n"
      ],
      "metadata": {
        "colab": {
          "base_uri": "https://localhost:8080/"
        },
        "id": "cM2uy8-ivrev",
        "outputId": "b13517e9-8391-4db3-fe01-f108f40aab9b"
      },
      "execution_count": 28,
      "outputs": [
        {
          "output_type": "stream",
          "name": "stdout",
          "text": [
            "List created with 100000 items\n",
            "Current memory usage: 3901.32 KB\n",
            "Peak memory usage: 3912.09 KB\n"
          ]
        }
      ]
    },
    {
      "cell_type": "code",
      "source": [
        "#17.Write a Python program to create and write a list of numbers to a file, one number per line\n",
        "\n",
        "with open(\"numbers.txt\", \"w\") as file:\n",
        "    numbers = [1, 2, 3, 4, 5]\n",
        "    for num in numbers:\n",
        "        file.write(str(num) + \"\\n\")"
      ],
      "metadata": {
        "id": "FOyUdAK8vrgb"
      },
      "execution_count": 29,
      "outputs": []
    },
    {
      "cell_type": "code",
      "source": [
        "#18.How would you implement a basic logging setup that logs to a file with rotation after 1MB\n",
        "import logging\n",
        "from logging.handlers import RotatingFileHandler\n",
        "\n",
        "handler = RotatingFileHandler(\"app.log\", maxBytes=1_000_000, backupCount=3)\n",
        "logging.basicConfig(handlers=[handler], level=logging.INFO)\n",
        "\n",
        "logging.info(\"This is an info message.\")\n"
      ],
      "metadata": {
        "id": "TJ_eWChyvrl4"
      },
      "execution_count": 30,
      "outputs": []
    },
    {
      "cell_type": "code",
      "source": [
        "#19.Write a program that handles both IndexError and KeyError using a try-except block?\n",
        "try:\n",
        "    my_list = [1, 2, 3]\n",
        "    print(my_list[3])\n",
        "\n",
        "    my_dict = {\"name\": \"Shyam\"}\n",
        "    print(my_dict[\"age\"])\n",
        "\n",
        "except IndexError as e:\n",
        "    print(\"IndexError:\", e)\n",
        "\n",
        "except KeyError as e:\n",
        "    print(\"KeyError:\", e)\n",
        "\n"
      ],
      "metadata": {
        "colab": {
          "base_uri": "https://localhost:8080/"
        },
        "id": "EsjrQ8-Dvrng",
        "outputId": "4a773f15-5a3d-4c5a-e4a4-0b30d712e966"
      },
      "execution_count": 31,
      "outputs": [
        {
          "output_type": "stream",
          "name": "stdout",
          "text": [
            "IndexError: list index out of range\n"
          ]
        }
      ]
    },
    {
      "cell_type": "code",
      "source": [
        "#20.How would you open a file and read its contents using a context manager in Python?\n",
        "with open(\"example.txt\", \"r\") as file:\n",
        "    content = file.read()\n",
        "    print(content)\n",
        "\n"
      ],
      "metadata": {
        "colab": {
          "base_uri": "https://localhost:8080/"
        },
        "id": "ZE3rllzAvrtD",
        "outputId": "2f7e06d5-d668-4f80-cc59-a836569c0134"
      },
      "execution_count": 32,
      "outputs": [
        {
          "output_type": "stream",
          "name": "stdout",
          "text": [
            "Hello, world!\n",
            "I Am Data Analyst\n",
            "welcome to my code\n",
            "This is new line,new content\n"
          ]
        }
      ]
    },
    {
      "cell_type": "code",
      "source": [
        "#21.Write a Python program that reads a file and prints the number of occurrences of a specific word?\n",
        "\n",
        "word = \"python\"\n",
        "with open(\"example.txt\", \"r\") as file:\n",
        "    content = file.read().lower()\n",
        "count = content.count(word.lower())\n",
        "print(f\"The word '{word}' occurs {count} times.\")\n",
        "\n"
      ],
      "metadata": {
        "colab": {
          "base_uri": "https://localhost:8080/"
        },
        "id": "T7dv9iuR8TI5",
        "outputId": "ffe85c2f-0e5f-4311-d573-92de8c232656"
      },
      "execution_count": 33,
      "outputs": [
        {
          "output_type": "stream",
          "name": "stdout",
          "text": [
            "The word 'python' occurs 0 times.\n"
          ]
        }
      ]
    },
    {
      "cell_type": "code",
      "source": [
        "#22.How can you check if a file is empty before attempting to read its contents?\n",
        "with open(\"example.txt\", \"r\") as file:\n",
        "    content = file.read()\n",
        "    if not content.strip():\n",
        "        print(\"The file is empty.\")\n",
        "    else:\n",
        "        print(\"The file is not empty.\")\n"
      ],
      "metadata": {
        "colab": {
          "base_uri": "https://localhost:8080/"
        },
        "id": "zc-LPV1q8yJp",
        "outputId": "e30020a8-2d76-45d0-fdd7-d841b1bd502a"
      },
      "execution_count": 34,
      "outputs": [
        {
          "output_type": "stream",
          "name": "stdout",
          "text": [
            "The file is not empty.\n"
          ]
        }
      ]
    },
    {
      "cell_type": "code",
      "source": [
        "#23.Write a Python program that writes to a log file when an error occurs during file handling.\n",
        "\n"
      ],
      "metadata": {
        "colab": {
          "base_uri": "https://localhost:8080/"
        },
        "id": "YH9QHAR08x7l",
        "outputId": "50bdc35a-2aa3-4c9e-e4f5-cc5e0be82e81"
      },
      "execution_count": 35,
      "outputs": [
        {
          "output_type": "stream",
          "name": "stdout",
          "text": [
            "Hello, world!\n",
            "I Am Data Analyst\n",
            "welcome to my code\n",
            "This is new line,new content\n"
          ]
        }
      ]
    },
    {
      "cell_type": "code",
      "source": [
        "#23.Write a Python program that writes to a log file when an error occurs during file handling.\n",
        "\n",
        "import logging\n",
        "logging.basicConfig(filename=\"error.log\", level=logging.ERROR)\n",
        "\n",
        "try:\n",
        "  with open(\"nonexistent.txt\", \"r\") as file:\n",
        "        print(file.read())\n",
        "except Exception as e:\n",
        "    logging.error(\"File handling error: %s\", e)\n",
        "    print(\"An error occurred. Check error.log for details.\")\n"
      ],
      "metadata": {
        "colab": {
          "base_uri": "https://localhost:8080/"
        },
        "id": "oNkSWKwP-kIF",
        "outputId": "cb494d33-88e3-4f67-c26c-68018eda815d"
      },
      "execution_count": 36,
      "outputs": [
        {
          "output_type": "stream",
          "name": "stderr",
          "text": [
            "ERROR:root:File handling error: [Errno 2] No such file or directory: 'nonexistent.txt'\n"
          ]
        },
        {
          "output_type": "stream",
          "name": "stdout",
          "text": [
            "An error occurred. Check error.log for details.\n"
          ]
        }
      ]
    }
  ]
}